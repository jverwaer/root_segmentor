{
 "cells": [
  {
   "cell_type": "markdown",
   "metadata": {},
   "source": [
    "# Manual of root_segmentor_VIB"
   ]
  },
  {
   "cell_type": "markdown",
   "metadata": {},
   "source": [
    "### Sep 0: imports\n",
    "\n",
    "Import the required modules"
   ]
  },
  {
   "cell_type": "code",
   "execution_count": 1,
   "metadata": {},
   "outputs": [],
   "source": [
    "import os\n",
    "import sys\n",
    "sys.path.append(\"..\")\n",
    "import root_segmentor_VIB as rs\n",
    "import matplotlib.pyplot as plt\n",
    "import pandas as pd\n",
    "\n",
    "%matplotlib tk\n"
   ]
  },
  {
   "cell_type": "markdown",
   "metadata": {},
   "source": [
    "### Step 1: look at some sample data\n",
    "\n",
    "The method `load_training_image` allows to read an image and the tracings for training as well. The `auto_transform` option allows to automatically transform the tracings coordinates into the coordinate system of the image."
   ]
  },
  {
   "cell_type": "code",
   "execution_count": 2,
   "metadata": {},
   "outputs": [],
   "source": [
    "im, names, vertices_s, vertices_e = rs.load_training_image(img_file = \"../sample_uniform_1/EOS 550D_042.JPG\",\n",
    "                                                        root_traces_file = \"../sample_uniform_1/EOS 550D_042 vertices.csv\",\n",
    "                                                        auto_transform=True)\n",
    "\n",
    "#transform into row-column coordinates\n",
    "vertices_s_RC = rs.flip_XY_RC(vertices_s)\n",
    "vertices_e_RC = rs.flip_XY_RC(vertices_e)"
   ]
  },
  {
   "cell_type": "markdown",
   "metadata": {},
   "source": [
    "To create training data from the loaded images, the tracings are first transformed into a root-mask with `create_root_mask` after which the function `create_root_buffer_background_image` transforms this into an image containing root-pixels (1), relevant background pixels for making a classification (2) and unclassified pixels (3). To do that, buffer zones are used around the images.\n",
    "\n",
    "Lastly, the function `create_training_data` finally selects the left half of the image for training purposes. Can be skipped if entire image should be used for training."
   ]
  },
  {
   "cell_type": "code",
   "execution_count": 3,
   "metadata": {},
   "outputs": [],
   "source": [
    "# create root mask\n",
    "root_mask = rs.create_root_mask(im, vertices_s_RC, vertices_e_RC)\n",
    "root_buffer_background = rs.create_root_buffer_background_image(root_mask)\n",
    "\n",
    "# create training data labels\n",
    "training_labels = rs.create_training_data(root_buffer_background)"
   ]
  },
  {
   "cell_type": "markdown",
   "metadata": {},
   "source": [
    "The function `show_traces` allows to plot an image with the traincing on top (similar to imshow). Use `%matplotlib tk` for pop-up viewer"
   ]
  },
  {
   "cell_type": "code",
   "execution_count": 4,
   "metadata": {},
   "outputs": [],
   "source": [
    "plt.subplot(1, 3, 1)\n",
    "rs.show_traces(vertices_s, vertices_e, im)\n",
    "plt.subplot(1, 3, 2)\n",
    "rs.show_traces(vertices_s, vertices_e, root_buffer_background)\n",
    "plt.subplot(1, 3, 3)\n",
    "rs.show_traces(vertices_s, vertices_e, training_labels)"
   ]
  },
  {
   "cell_type": "markdown",
   "metadata": {},
   "source": [
    "### Step 2: Compile a dataset for training\n",
    "\n",
    "The tracings of multiple images are combined to learn a pixel-classifier. To achieve this goal, the following steps are taken:\n",
    "* All images and tracings in `some_folder` are listed\n",
    "* Per image, pixel-level features are computed (texture, gradient image etc.)\n",
    "* The per image, the function `create_root_buffer_background_image` is used to comput the label of every pixel\n",
    "* A fraction is points is sampled (reducing training dataset size and rebalancing it somewhat)\n",
    "* The preveous steps are applied to all images in `some_folder` and combined in a features dataset `X` and labels dataset `Y`\n",
    "\n",
    "The first step only computes labels and features per image and stores them as `npy` files."
   ]
  },
  {
   "cell_type": "code",
   "execution_count": null,
   "metadata": {},
   "outputs": [],
   "source": [
    "\n",
    "# compute FEATURES and LABELS for each image in a given folder\n",
    "files_list = ['../sample_uniform_1/'+f for f in os.listdir('../sample_uniform_1') if f[-3:] == \"JPG\"]\n",
    "rs. imgs_to_XY_data(files_list)"
   ]
  },
  {
   "cell_type": "markdown",
   "metadata": {},
   "source": [
    "The second step combines the generated files to create `X` and `Y`"
   ]
  },
  {
   "cell_type": "code",
   "execution_count": 6,
   "metadata": {},
   "outputs": [],
   "source": [
    "# create training datasets\n",
    "features_file_list = ['../sample_uniform_1/'+f for f in os.listdir('../sample_uniform_1') if f[-3:] == \"npy\" and \"FEATURES\" in f]\n",
    "X, Y = rs.compile_training_dataset_from_precomputed_features(features_file_list)"
   ]
  },
  {
   "cell_type": "markdown",
   "metadata": {},
   "source": [
    "### Step 3: Train a model and save it\n",
    "\n",
    "The compiled dataset is used to train a random forest classifier"
   ]
  },
  {
   "cell_type": "code",
   "execution_count": 17,
   "metadata": {},
   "outputs": [
    {
     "data": {
      "text/html": [
       "<style>#sk-container-id-1 {color: black;background-color: white;}#sk-container-id-1 pre{padding: 0;}#sk-container-id-1 div.sk-toggleable {background-color: white;}#sk-container-id-1 label.sk-toggleable__label {cursor: pointer;display: block;width: 100%;margin-bottom: 0;padding: 0.3em;box-sizing: border-box;text-align: center;}#sk-container-id-1 label.sk-toggleable__label-arrow:before {content: \"▸\";float: left;margin-right: 0.25em;color: #696969;}#sk-container-id-1 label.sk-toggleable__label-arrow:hover:before {color: black;}#sk-container-id-1 div.sk-estimator:hover label.sk-toggleable__label-arrow:before {color: black;}#sk-container-id-1 div.sk-toggleable__content {max-height: 0;max-width: 0;overflow: hidden;text-align: left;background-color: #f0f8ff;}#sk-container-id-1 div.sk-toggleable__content pre {margin: 0.2em;color: black;border-radius: 0.25em;background-color: #f0f8ff;}#sk-container-id-1 input.sk-toggleable__control:checked~div.sk-toggleable__content {max-height: 200px;max-width: 100%;overflow: auto;}#sk-container-id-1 input.sk-toggleable__control:checked~label.sk-toggleable__label-arrow:before {content: \"▾\";}#sk-container-id-1 div.sk-estimator input.sk-toggleable__control:checked~label.sk-toggleable__label {background-color: #d4ebff;}#sk-container-id-1 div.sk-label input.sk-toggleable__control:checked~label.sk-toggleable__label {background-color: #d4ebff;}#sk-container-id-1 input.sk-hidden--visually {border: 0;clip: rect(1px 1px 1px 1px);clip: rect(1px, 1px, 1px, 1px);height: 1px;margin: -1px;overflow: hidden;padding: 0;position: absolute;width: 1px;}#sk-container-id-1 div.sk-estimator {font-family: monospace;background-color: #f0f8ff;border: 1px dotted black;border-radius: 0.25em;box-sizing: border-box;margin-bottom: 0.5em;}#sk-container-id-1 div.sk-estimator:hover {background-color: #d4ebff;}#sk-container-id-1 div.sk-parallel-item::after {content: \"\";width: 100%;border-bottom: 1px solid gray;flex-grow: 1;}#sk-container-id-1 div.sk-label:hover label.sk-toggleable__label {background-color: #d4ebff;}#sk-container-id-1 div.sk-serial::before {content: \"\";position: absolute;border-left: 1px solid gray;box-sizing: border-box;top: 0;bottom: 0;left: 50%;z-index: 0;}#sk-container-id-1 div.sk-serial {display: flex;flex-direction: column;align-items: center;background-color: white;padding-right: 0.2em;padding-left: 0.2em;position: relative;}#sk-container-id-1 div.sk-item {position: relative;z-index: 1;}#sk-container-id-1 div.sk-parallel {display: flex;align-items: stretch;justify-content: center;background-color: white;position: relative;}#sk-container-id-1 div.sk-item::before, #sk-container-id-1 div.sk-parallel-item::before {content: \"\";position: absolute;border-left: 1px solid gray;box-sizing: border-box;top: 0;bottom: 0;left: 50%;z-index: -1;}#sk-container-id-1 div.sk-parallel-item {display: flex;flex-direction: column;z-index: 1;position: relative;background-color: white;}#sk-container-id-1 div.sk-parallel-item:first-child::after {align-self: flex-end;width: 50%;}#sk-container-id-1 div.sk-parallel-item:last-child::after {align-self: flex-start;width: 50%;}#sk-container-id-1 div.sk-parallel-item:only-child::after {width: 0;}#sk-container-id-1 div.sk-dashed-wrapped {border: 1px dashed gray;margin: 0 0.4em 0.5em 0.4em;box-sizing: border-box;padding-bottom: 0.4em;background-color: white;}#sk-container-id-1 div.sk-label label {font-family: monospace;font-weight: bold;display: inline-block;line-height: 1.2em;}#sk-container-id-1 div.sk-label-container {text-align: center;}#sk-container-id-1 div.sk-container {/* jupyter's `normalize.less` sets `[hidden] { display: none; }` but bootstrap.min.css set `[hidden] { display: none !important; }` so we also need the `!important` here to be able to override the default hidden behavior on the sphinx rendered scikit-learn.org. See: https://github.com/scikit-learn/scikit-learn/issues/21755 */display: inline-block !important;position: relative;}#sk-container-id-1 div.sk-text-repr-fallback {display: none;}</style><div id=\"sk-container-id-1\" class=\"sk-top-container\"><div class=\"sk-text-repr-fallback\"><pre>RandomForestClassifier(max_depth=10, max_samples=0.05, n_jobs=-1)</pre><b>In a Jupyter environment, please rerun this cell to show the HTML representation or trust the notebook. <br />On GitHub, the HTML representation is unable to render, please try loading this page with nbviewer.org.</b></div><div class=\"sk-container\" hidden><div class=\"sk-item\"><div class=\"sk-estimator sk-toggleable\"><input class=\"sk-toggleable__control sk-hidden--visually\" id=\"sk-estimator-id-1\" type=\"checkbox\" checked><label for=\"sk-estimator-id-1\" class=\"sk-toggleable__label sk-toggleable__label-arrow\">RandomForestClassifier</label><div class=\"sk-toggleable__content\"><pre>RandomForestClassifier(max_depth=10, max_samples=0.05, n_jobs=-1)</pre></div></div></div></div></div>"
      ],
      "text/plain": [
       "RandomForestClassifier(max_depth=10, max_samples=0.05, n_jobs=-1)"
      ]
     },
     "execution_count": 17,
     "metadata": {},
     "output_type": "execute_result"
    }
   ],
   "source": [
    "# fit random forest classifier\n",
    "clf = rs.RandomForestClassifier(n_estimators=100, n_jobs=-1,\n",
    "                            max_depth=10, max_samples=0.05)\n",
    "clf.fit(X, Y)\n",
    "# dump the model to a file\n",
    "# dump(clf, '../models/RF_550D_042_078_NTrees-100.joblib')"
   ]
  },
  {
   "cell_type": "markdown",
   "metadata": {},
   "source": [
    "### Step 4: Load a saved model\n",
    "\n",
    "Select a saved model and load it"
   ]
  },
  {
   "cell_type": "code",
   "execution_count": 2,
   "metadata": {},
   "outputs": [],
   "source": [
    "clf = rs.load('../models/RF_550D_042_078_NTrees-100.joblib')"
   ]
  },
  {
   "cell_type": "markdown",
   "metadata": {},
   "source": [
    "### Step 5: Load new image to make predictions (and compare with tracings)"
   ]
  },
  {
   "cell_type": "code",
   "execution_count": 8,
   "metadata": {},
   "outputs": [],
   "source": [
    "im = rs.io.imread(\"../sample_uniform_1/test_cases/EOS 550D_082.JPG\")\n",
    "# compute features\n",
    "features = rs.im2features(im)\n",
    "# predict\n",
    "predicted_segmentation = rs.predict_segmentor(clf, features)\n",
    "# clean detected roots\n",
    "roots = rs.clean_predicted_roots(predicted_segmentation)"
   ]
  },
  {
   "cell_type": "markdown",
   "metadata": {},
   "source": [
    "Visualize the results"
   ]
  },
  {
   "cell_type": "code",
   "execution_count": 15,
   "metadata": {},
   "outputs": [],
   "source": [
    "# draw detected roots\n",
    "rs.draw_detected_roots(roots, im)"
   ]
  },
  {
   "cell_type": "markdown",
   "metadata": {},
   "source": [
    "### Step 6: Export the results to a file\n",
    "\n",
    "The lenths, orientation, position etc. of the roots can be exported to a file"
   ]
  },
  {
   "cell_type": "code",
   "execution_count": 10,
   "metadata": {},
   "outputs": [],
   "source": [
    "results_df = rs.measure_roots(roots)\n",
    "results_df.to_excel(\"../sample_results/measurements.xlsx\")"
   ]
  },
  {
   "cell_type": "markdown",
   "metadata": {},
   "source": [
    "### Step 7: Automate classification per folder\n",
    "\n",
    "Lists all files in `some_dir`, detects roots and saves the results in a xlsx file. All detected roots are saved for quality checking."
   ]
  },
  {
   "cell_type": "code",
   "execution_count": null,
   "metadata": {},
   "outputs": [],
   "source": [
    "# list all test images in folder\n",
    "features_file_list = ['../sample_uniform_1/test_cases2/'+f for f in os.listdir('../sample_uniform_1/test_cases2') if f[-3:] == \"JPG\"]\n",
    "\n",
    "all_results = []\n",
    "\n",
    "for fname in features_file_list:\n",
    "    # read image\n",
    "    im = rs.io.imread(fname)\n",
    "    # compute features\n",
    "    features = rs.im2features(im)\n",
    "    # predict\n",
    "    predicted_segmentation = rs.predict_segmentor(clf, features)\n",
    "    # clean detected roots\n",
    "    roots = rs.clean_predicted_roots(predicted_segmentation)\n",
    "    # compute root properties\n",
    "    results_df = rs.measure_roots(roots)\n",
    "    results_df[\"fname\"] = fname\n",
    "    # append to results list\n",
    "    all_results.append(results_df)\n",
    "    # save image for quality check\n",
    "    rs.save_detected_roots_im(roots, im, fname[:-4] + \"result.png\")\n",
    "\n",
    "\n",
    "pd.concat(all_results).to_excel(\"../sample_results/measurements.xlsx\")\n"
   ]
  }
 ],
 "metadata": {
  "kernelspec": {
   "display_name": "Python 3.10.4 ('.venv': venv)",
   "language": "python",
   "name": "python3"
  },
  "language_info": {
   "codemirror_mode": {
    "name": "ipython",
    "version": 3
   },
   "file_extension": ".py",
   "mimetype": "text/x-python",
   "name": "python",
   "nbconvert_exporter": "python",
   "pygments_lexer": "ipython3",
   "version": "3.10.4"
  },
  "orig_nbformat": 4,
  "vscode": {
   "interpreter": {
    "hash": "09605cd2bc0aa78d59dab4b68b44be16a9a5d52cf560cda528d1db29b8f55ea7"
   }
  }
 },
 "nbformat": 4,
 "nbformat_minor": 2
}
